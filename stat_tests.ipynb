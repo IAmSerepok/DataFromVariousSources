{
 "cells": [
  {
   "cell_type": "code",
   "execution_count": 49,
   "id": "fffba868",
   "metadata": {},
   "outputs": [],
   "source": [
    "import numpy as np\n",
    "import pandas as pd\n",
    "import ruptures as rpt\n",
    "import scipy.stats as stats\n",
    "import matplotlib.pyplot as plt\n",
    "\n",
    "plt.style.use('dark_background')\n",
    "\n",
    "df = pd.read_csv('data/clean_data.csv')"
   ]
  },
  {
   "cell_type": "code",
   "execution_count": 50,
   "id": "0f3e17d3",
   "metadata": {},
   "outputs": [],
   "source": [
    "signal = df['accuracy_1_%'].values\n",
    "model = rpt.Pelt(model=\"rbf\", min_size=5).fit(signal)\n",
    "changes_pelt = model.predict(pen=1)\n",
    "\n",
    "changes_pelt = [cp for cp in changes_pelt if cp < len(df)]"
   ]
  },
  {
   "cell_type": "code",
   "execution_count": 51,
   "id": "5042534d",
   "metadata": {},
   "outputs": [],
   "source": [
    "indexes = [0] + changes_pelt + [len(signal)-1]"
   ]
  },
  {
   "cell_type": "markdown",
   "id": "b9985684",
   "metadata": {},
   "source": [
    "p-value > 0.05 → не отвергаем H₀ (нормальность).\n",
    "\n",
    "p-value ≤ 0.05 → отвергаем H₀ (ненормальность)."
   ]
  },
  {
   "cell_type": "code",
   "execution_count": 52,
   "id": "5950d70f",
   "metadata": {},
   "outputs": [
    {
     "name": "stdout",
     "output_type": "stream",
     "text": [
      "[0, 65] - False, W = 0.928\n",
      "[65, 140] - True, W = 0.981\n",
      "[140, 150] - True, W = 0.941\n",
      "[150, 180] - True, W = 0.931\n",
      "[180, 195] - True, W = 0.975\n",
      "[195, 225] - True, W = 0.933\n",
      "[225, 235] - False, W = 0.746\n",
      "[235, 240] - True, W = 0.859\n",
      "[240, 250] - True, W = 0.926\n",
      "[250, 260] - True, W = 0.868\n",
      "[260, 265] - True, W = 0.945\n",
      "[265, 270] - True, W = 0.989\n",
      "[270, 318] - True, W = 0.973\n"
     ]
    }
   ],
   "source": [
    "for i in range(len(indexes) - 1):\n",
    "    data = signal[indexes[i]:indexes[i+1]]\n",
    "    shapiro_test = stats.shapiro(data)\n",
    "\n",
    "    print(f\"[{indexes[i]}, {indexes[i+1]}] - {shapiro_test.pvalue > 0.05}, W = {shapiro_test.statistic:.3f}\")\n"
   ]
  },
  {
   "cell_type": "markdown",
   "id": "2ec72071",
   "metadata": {},
   "source": [
    "W - уверенность в результате [0,1]"
   ]
  },
  {
   "cell_type": "code",
   "execution_count": 53,
   "id": "837e2a57",
   "metadata": {},
   "outputs": [
    {
     "name": "stdout",
     "output_type": "stream",
     "text": [
      "Shapiro-Wilk test: W=0.906, p-value=0.000\n"
     ]
    }
   ],
   "source": [
    "shapiro_test = stats.shapiro(signal)\n",
    "print(f\"Shapiro-Wilk test: W={shapiro_test.statistic:.3f}, p-value={shapiro_test.pvalue:.3f}\")"
   ]
  },
  {
   "cell_type": "code",
   "execution_count": 54,
   "id": "02093af5",
   "metadata": {},
   "outputs": [
    {
     "data": {
      "text/plain": [
       "[<matplotlib.lines.Line2D at 0x139abf4f1d0>]"
      ]
     },
     "execution_count": 54,
     "metadata": {},
     "output_type": "execute_result"
    },
    {
     "data": {
      "image/png": "[encoded data removed]",
      "text/plain": [
       "<Figure size 640x480 with 1 Axes>"
      ]
     },
     "metadata": {},
     "output_type": "display_data"
    }
   ],
   "source": [
    "# stds = []\n",
    "# for i in range(len(indexes) - 1):\n",
    "#     data = signal[indexes[i]:indexes[i+1]]\n",
    "\n",
    "#     stds += []\n",
    "\n",
    "#     #print(f\"{data.std():.3f}\")\n",
    "\n",
    "stds = [signal[indexes[i]:indexes[i+1]].std() for i in range(len(indexes) - 1)]\n",
    "\n",
    "plt.plot(stds)"
   ]
  },
  {
   "cell_type": "markdown",
   "id": "c1d8a244",
   "metadata": {},
   "source": [
    "Тест Уэлча для проверки значимости в различии средних соседних выборок (при различной дисперсии)\n",
    "\n",
    "Тест Бартлетт для проверки значимости в различии дисперсий соседних выборок"
   ]
  },
  {
   "cell_type": "code",
   "execution_count": 57,
   "id": "579f1e95",
   "metadata": {},
   "outputs": [
    {
     "name": "stdout",
     "output_type": "stream",
     "text": [
      "65            - mean: False            - std: True            \n",
      "140            - mean: False            - std: False            \n",
      "150            - mean: False            - std: True            \n",
      "180            - mean: False            - std: False            \n",
      "195            - mean: False            - std: True            \n",
      "225            - mean: False            - std: False            \n",
      "235            - mean: False            - std: False            \n",
      "240            - mean: False            - std: True            \n",
      "250            - mean: False            - std: True            \n",
      "260            - mean: False            - std: True            \n",
      "265            - mean: False            - std: True            \n",
      "270            - mean: False            - std: True            \n"
     ]
    }
   ],
   "source": [
    "for i in range(len(indexes) - 2):\n",
    "    data1 = signal[indexes[i]:indexes[i+1]]\n",
    "    data2 = signal[indexes[i+1]:indexes[i+2]]\n",
    "\n",
    "    print(f\"{indexes[i+1]} \\\n",
    "           - mean: {stats.ttest_ind(data1, data2, equal_var=False).pvalue > 0.05} \\\n",
    "           - std: {stats.bartlett(data1, data2).pvalue > 0.05} \\\n",
    "           \")"
   ]
  }
 ],
 "metadata": {
  "kernelspec": {
   "display_name": "Python 3",
   "language": "python",
   "name": "python3"
  },
  "language_info": {
   "codemirror_mode": {
    "name": "ipython",
    "version": 3
   },
   "file_extension": ".py",
   "mimetype": "text/x-python",
   "name": "python",
   "nbconvert_exporter": "python",
   "pygments_lexer": "ipython3",
   "version": "3.11.1"
  }
 },
 "nbformat": 4,
 "nbformat_minor": 5
}
